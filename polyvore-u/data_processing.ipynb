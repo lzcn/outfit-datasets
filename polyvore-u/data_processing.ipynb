{
 "cells": [
  {
   "cell_type": "code",
   "execution_count": null,
   "metadata": {},
   "outputs": [],
   "source": [
    "import os\n",
    "\n",
    "import numpy as np\n",
    "import pandas as pd\n",
    "import torchutils\n"
   ]
  },
  {
   "cell_type": "code",
   "execution_count": null,
   "metadata": {},
   "outputs": [],
   "source": [
    "inputDir = \"release\"\n",
    "dataSet = \"tuples_630\"\n",
    "outputDir = \"processed\"\n",
    "saveFile = False\n",
    "\n",
    "os.makedirs(f\"{outputDir}/original/{dataSet}\", exist_ok=True)"
   ]
  },
  {
   "cell_type": "code",
   "execution_count": null,
   "metadata": {},
   "outputs": [],
   "source": [
    "def load_image_list(fn):\n",
    "    with open(fn) as f:\n",
    "        lines = f.read().strip().split()\n",
    "    return lines\n",
    "\n",
    "\n",
    "image_list = [\n",
    "    load_image_list(os.path.join(f\"{inputDir}/{dataSet}/image_list_top\")),\n",
    "    load_image_list(os.path.join(f\"{inputDir}/{dataSet}/image_list_bottom\")),\n",
    "    load_image_list(os.path.join(f\"{inputDir}/{dataSet}/image_list_shoe\")),\n",
    "]\n",
    "if saveFile:\n",
    "    torchutils.io.save_json(f\"{outputDir}/original/{dataSet}/items.json\", image_list)"
   ]
  },
  {
   "cell_type": "code",
   "execution_count": null,
   "metadata": {},
   "outputs": [],
   "source": [
    "imageReader = torchutils.data.ImageLMDBReader(f\"{outputDir}/features/images\")"
   ]
  },
  {
   "cell_type": "code",
   "execution_count": null,
   "metadata": {},
   "outputs": [],
   "source": [
    "image = np.array(imageReader(image_list[0][0]))\n",
    "print(\"Image shape: {}\".format(image.shape))"
   ]
  },
  {
   "cell_type": "code",
   "execution_count": null,
   "metadata": {},
   "outputs": [],
   "source": [
    "def rearrange(items, types):\n",
    "    new_items, new_types = [], []\n",
    "    for item_id, item_type in zip(items, types):\n",
    "        if item_type == -1:\n",
    "            continue\n",
    "        new_items.append(item_id)\n",
    "        new_types.append(item_type)\n",
    "    while len(new_items) < len(items):\n",
    "        new_items.append(-1)\n",
    "        new_types.append(-1)\n",
    "    return new_items + new_types\n",
    "\n",
    "\n",
    "def convert_tuples(data: np.ndarray):\n",
    "    uidx, tuples = data[:, 0], data[:, 1:]\n",
    "    n, m = tuples.shape\n",
    "    if m == 3:\n",
    "        types = np.array([0, 1, 2]).reshape((1, -1)).repeat(n, axis=0)\n",
    "    else:\n",
    "        types = np.array([0, 0, 1, 2]).reshape((1, -1)).repeat(n, axis=0)\n",
    "    types = np.where(tuples == -1, tuples, types)\n",
    "    size = np.sum(types != -1, axis=1)\n",
    "    converted = []\n",
    "    for i in range(n):\n",
    "        converted.append([uidx[i], size[i]] + rearrange(tuples[i], types[i]))\n",
    "    return np.array(converted)\n",
    "\n"
   ]
  },
  {
   "cell_type": "code",
   "execution_count": null,
   "metadata": {},
   "outputs": [],
   "source": [
    "data = np.array(pd.read_csv(f\"{inputDir}/{dataSet}/tuples_train_posi\", dtype=np.int64))\n",
    "converted = convert_tuples(data)\n",
    "if saveFile:\n",
    "    torchutils.io.save_csv(f\"{outputDir}/original/{dataSet}/train_pos\", converted)\n",
    "\n",
    "data = np.array(pd.read_csv(f\"{inputDir}/{dataSet}/tuples_train_nega\", dtype=np.int64))\n",
    "converted = convert_tuples(data)\n",
    "if saveFile:\n",
    "    torchutils.io.save_csv(f\"{outputDir}/original/{dataSet}/train_neg\", converted)\n"
   ]
  },
  {
   "cell_type": "code",
   "execution_count": null,
   "metadata": {},
   "outputs": [],
   "source": [
    "data = np.array(pd.read_csv(f\"{inputDir}/{dataSet}/tuples_val_posi\", dtype=np.int64))\n",
    "converted = convert_tuples(data)\n",
    "if saveFile:\n",
    "    torchutils.io.save_csv(f\"{outputDir}/original/{dataSet}/valid_pos\", converted)\n",
    "\n",
    "data = np.array(pd.read_csv(f\"{inputDir}/{dataSet}/tuples_val_nega\", dtype=np.int64))\n",
    "converted = convert_tuples(data)\n",
    "if saveFile:\n",
    "    torchutils.io.save_csv(f\"{outputDir}/original/{dataSet}/valid_neg\", converted)\n"
   ]
  },
  {
   "cell_type": "code",
   "execution_count": null,
   "metadata": {},
   "outputs": [],
   "source": [
    "data = np.array(pd.read_csv(f\"{inputDir}/{dataSet}/tuples_test_posi\", dtype=np.int64))\n",
    "converted = convert_tuples(data)\n",
    "if saveFile:\n",
    "    torchutils.io.save_csv(f\"{outputDir}/original/{dataSet}/test_pos\", converted)\n",
    "\n",
    "data = np.array(pd.read_csv(f\"{inputDir}/{dataSet}/tuples_test_nega\", dtype=np.int64))\n",
    "converted = convert_tuples(data)\n",
    "if saveFile:\n",
    "    torchutils.io.save_csv(f\"{outputDir}/original/{dataSet}/test_neg\", converted)\n"
   ]
  },
  {
   "cell_type": "code",
   "execution_count": null,
   "metadata": {},
   "outputs": [],
   "source": [
    "data = np.array(pd.read_csv(f\"{inputDir}/{dataSet}/fill_in_blank_test\", dtype=np.int64))\n",
    "num_answers = 4\n",
    "num_questions = data.shape[0]\n",
    "num_columns = data.shape[1] // num_answers\n",
    "pos = data[:, :num_columns]\n",
    "neg = data[:, num_columns:].reshape((num_questions * (num_answers - 1), num_columns))\n",
    "pos = convert_tuples(pos)\n",
    "neg = convert_tuples(neg)\n",
    "\n",
    "data = data.reshape((num_questions * num_answers, -1))\n",
    "converted = convert_tuples(data)\n",
    "if saveFile:\n",
    "    # torchutils.io.save_csv(f\"{outputDir}/original/{dataSet}/test_fitb\", converted)\n",
    "    torchutils.io.save_csv(f\"{outputDir}/original/{dataSet}/test_pos_fitb\", pos)\n",
    "    torchutils.io.save_csv(f\"{outputDir}/original/{dataSet}/test_neg_fitb\", neg)\n"
   ]
  },
  {
   "cell_type": "code",
   "execution_count": null,
   "metadata": {},
   "outputs": [],
   "source": []
  }
 ],
 "metadata": {
  "interpreter": {
   "hash": "05658dfe50cff6bbd42299af9f1a1eb42a9cf1a7abd2f1ef93f6f5316928c930"
  },
  "kernelspec": {
   "display_name": "Python 3.8.10 64-bit ('torch': conda)",
   "name": "python3"
  },
  "language_info": {
   "codemirror_mode": {
    "name": "ipython",
    "version": 3
   },
   "file_extension": ".py",
   "mimetype": "text/x-python",
   "name": "python",
   "nbconvert_exporter": "python",
   "pygments_lexer": "ipython3",
   "version": "3.8.10"
  }
 },
 "nbformat": 4,
 "nbformat_minor": 4
}
