{
 "cells": [
  {
   "cell_type": "code",
   "execution_count": 1,
   "source": [
    "import os\n",
    "import numpy as np\n",
    "import pandas as pd\n",
    "import torchutils\n"
   ],
   "outputs": [],
   "metadata": {}
  },
  {
   "cell_type": "code",
   "execution_count": 2,
   "source": [
    "inputDir = \"release\"\n",
    "dataSet = \"tuples_32\"\n",
    "outputDir = f\"processed\"\n"
   ],
   "outputs": [],
   "metadata": {}
  },
  {
   "cell_type": "code",
   "execution_count": 3,
   "source": [
    "def load_image_list(fn):\n",
    "    with open(fn) as f:\n",
    "        lines = f.read().strip().split()\n",
    "    return lines\n",
    "\n",
    "\n",
    "image_list = [\n",
    "    load_image_list(os.path.join(f\"{inputDir}/{dataSet}/image_list_top\")),\n",
    "    load_image_list(os.path.join(f\"{inputDir}/{dataSet}/image_list_bottom\")),\n",
    "    load_image_list(os.path.join(f\"{inputDir}/{dataSet}/image_list_shoe\")),\n",
    "]\n",
    "\n",
    "os.makedirs(f\"{outputDir}/original/{dataSet}\", exist_ok=True)\n",
    "torchutils.io.save_json(f\"{outputDir}/original/{dataSet}/items.json\", image_list)"
   ],
   "outputs": [],
   "metadata": {}
  },
  {
   "cell_type": "code",
   "execution_count": 4,
   "source": [
    "imageReader = torchutils.data.ImageLMDBReader(f\"{outputDir}/features/images\")"
   ],
   "outputs": [],
   "metadata": {}
  },
  {
   "cell_type": "code",
   "execution_count": 5,
   "source": [
    "image = np.array(imageReader(image_list[0][0]))\n",
    "print(\"Image shape: {}\".format(image.shape))"
   ],
   "outputs": [
    {
     "output_type": "stream",
     "name": "stdout",
     "text": [
      "Image shape: (291, 291, 3)\n"
     ]
    }
   ],
   "metadata": {}
  },
  {
   "cell_type": "code",
   "execution_count": 6,
   "source": [
    "\n",
    "def rearrange(items, types):\n",
    "    new_items, new_types = [], []\n",
    "    for item_id, item_type in zip(items, types):\n",
    "        if item_type == -1:\n",
    "            continue\n",
    "        new_items.append(item_id)\n",
    "        new_types.append(item_type)\n",
    "    while len(new_items) < len(items):\n",
    "        new_items.append(-1)\n",
    "        new_types.append(-1)\n",
    "    return new_items + new_types\n",
    "\n",
    "def convert_tuples(data: np.ndarray):\n",
    "    uidx, tuples = data[:, 0], data[:, 1:]\n",
    "    n, m = tuples.shape\n",
    "    if m == 3:\n",
    "        types = np.array([0, 1, 2]).reshape((1, -1)).repeat(n, axis=0)\n",
    "    else:\n",
    "        types = np.array([0, 0, 1, 2]).reshape((1, -1)).repeat(n, axis=0)\n",
    "    types = np.where(tuples == -1, tuples, types)\n",
    "    size = np.sum(types != -1, axis=1)\n",
    "    converted = []\n",
    "    for i in range(n):\n",
    "        converted.append([uidx[i], size[i]] + rearrange(tuples[i], types[i]))\n",
    "    return np.array(converted)\n",
    "\n"
   ],
   "outputs": [],
   "metadata": {}
  },
  {
   "cell_type": "code",
   "execution_count": 7,
   "source": [
    "data = np.array(pd.read_csv(f\"{inputDir}/{dataSet}/tuples_train_posi\", dtype=np.int64))\n",
    "converted = convert_tuples(data)\n",
    "torchutils.io.save_csv(f\"{outputDir}/original/{dataSet}/train_pos\", converted)\n",
    "\n",
    "data = np.array(pd.read_csv(f\"{inputDir}/{dataSet}/tuples_train_nega\", dtype=np.int64))\n",
    "converted = convert_tuples(data)\n",
    "torchutils.io.save_csv(f\"{outputDir}/original/{dataSet}/train_neg\", converted)\n"
   ],
   "outputs": [],
   "metadata": {}
  },
  {
   "cell_type": "code",
   "execution_count": 8,
   "source": [
    "data = np.array(pd.read_csv(f\"{inputDir}/{dataSet}/tuples_val_posi\", dtype=np.int64))\n",
    "converted = convert_tuples(data)\n",
    "torchutils.io.save_csv(f\"{outputDir}/original/{dataSet}/valid_pos\", converted)\n",
    "\n",
    "data = np.array(pd.read_csv(f\"{inputDir}/{dataSet}/tuples_val_nega\", dtype=np.int64))\n",
    "converted = convert_tuples(data)\n",
    "torchutils.io.save_csv(f\"{outputDir}/original/{dataSet}/valid_neg\", converted)\n"
   ],
   "outputs": [],
   "metadata": {}
  },
  {
   "cell_type": "code",
   "execution_count": 9,
   "source": [
    "data = np.array(pd.read_csv(f\"{inputDir}/{dataSet}/tuples_test_posi\", dtype=np.int64))\n",
    "converted = convert_tuples(data)\n",
    "torchutils.io.save_csv(f\"{outputDir}/original/{dataSet}/test_pos\", converted)\n",
    "\n",
    "data = np.array(pd.read_csv(f\"{inputDir}/{dataSet}/tuples_test_nega\", dtype=np.int64))\n",
    "converted = convert_tuples(data)\n",
    "torchutils.io.save_csv(f\"{outputDir}/original/{dataSet}/test_neg\", converted)\n"
   ],
   "outputs": [],
   "metadata": {}
  },
  {
   "cell_type": "code",
   "execution_count": 10,
   "source": [
    "data = np.array(pd.read_csv(f\"{inputDir}/{dataSet}/fill_in_blank_test\", dtype=np.int64))\n",
    "num_questions = data.shape[0]\n",
    "num_answers = 4\n",
    "data = data.reshape((num_questions * num_answers, -1))\n",
    "converted = convert_tuples(data)\n",
    "torchutils.io.save_csv(f\"{outputDir}/original/{dataSet}/test_fitb\", converted)\n"
   ],
   "outputs": [],
   "metadata": {}
  },
  {
   "cell_type": "code",
   "execution_count": null,
   "source": [],
   "outputs": [],
   "metadata": {}
  }
 ],
 "metadata": {
  "kernelspec": {
   "name": "python3",
   "display_name": "Python 3.8.10 64-bit ('torch': conda)"
  },
  "language_info": {
   "codemirror_mode": {
    "name": "ipython",
    "version": 3
   },
   "file_extension": ".py",
   "mimetype": "text/x-python",
   "name": "python",
   "nbconvert_exporter": "python",
   "pygments_lexer": "ipython3",
   "version": "3.8.10"
  },
  "interpreter": {
   "hash": "25a30456b79319c9ebd45f0031be8072c1134a6b937e97d5377ac9096a1dfbcb"
  }
 },
 "nbformat": 4,
 "nbformat_minor": 4
}