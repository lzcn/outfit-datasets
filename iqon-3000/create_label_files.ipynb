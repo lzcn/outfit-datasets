{
 "cells": [
  {
   "cell_type": "code",
   "execution_count": 1,
   "metadata": {},
   "outputs": [],
   "source": [
    "import json\n",
    "import os\n",
    "import torchutils\n",
    "import torchutils.misc\n",
    "from tqdm.notebook import tqdm\n",
    "from multiprocessing import Pool\n",
    "import matplotlib.pyplot as plt\n",
    "import numpy as np\n",
    "from collections import defaultdict\n",
    "import pandas as pd\n",
    "from pprint import pprint\n",
    "%matplotlib widget"
   ]
  },
  {
   "cell_type": "markdown",
   "metadata": {},
   "source": [
    "## IQON-3000 Dataset\n",
    "\n",
    "\n",
    "All json files are merged into one file: `processed/outfits.json`\n",
    "\n",
    "- Each entry is an outfit with keys:\n",
    "\n",
    "```\n",
    "['setId', 'setUrl', 'likeCount', 'user', 'items']\n",
    "```\n",
    "\n",
    "- Each entry in `entry[\"items\"]` is a dict with keys:\n",
    "\n",
    "```\n",
    "['imgUrl', 'price', 'category x color', 'itemId', 'itemName', 'itemUrl', 'breadcrumb', 'brands', 'categorys', 'options', 'colors', 'expressions']\n",
    "```\n",
    "\n",
    "\n",
    "- Images are saved in format `images/{user}/{setId}/{itemId}_m.jpg`\n",
    "\n",
    "- There are 62 different categories\n",
    "\n"
   ]
  },
  {
   "cell_type": "code",
   "execution_count": 2,
   "metadata": {},
   "outputs": [
    {
     "name": "stdout",
     "output_type": "stream",
     "text": [
      "{'accessories': 0, 'bag': 1, 'bottom': 2, 'coat': 3, 'dress': 4, 'hat': 5, 'shoes': 6, 'top': 7}\n"
     ]
    }
   ],
   "source": [
    "CATEGORY_MAP = {\n",
    "    \"Tシャツ\": \"top\",  # \"T-shirts\",\n",
    "    \"アクセサリー\": \"accessories\",  # \"accessories\",\n",
    "    \"アンダーウェア\": \"others\",  # \"underwear\",\n",
    "    \"インテリア\": \"others\",  # \"interiors\",\n",
    "    \"カーディガン\": \"top\",  # \"cardigans\",\n",
    "    \"キャップ\": \"hat\",  # \"caps\",\n",
    "    \"クラッチバッグ\": \"bag\",  # \"clutch bags\",\n",
    "    \"コート\": \"coat\",  # \"coats\",\n",
    "    \"コスメ\": \"others\",  # \"cosmetics\",\n",
    "    \"サングラス\": \"accessories\",  # \"sunglasses\",\n",
    "    \"サンダル\": \"shoes\",  # \"sandals\",\n",
    "    \"ジャケット\": \"coat\",  # \"jackets\",\n",
    "    \"ショートパンツ\": \"bottom\",  # \"shorts\",\n",
    "    \"ショルダーバッグ\": \"bag\",  # \"shoulder bags\",\n",
    "    \"スカート\": \"bottom\",  # \"skirts\",\n",
    "    \"ステーショナリー\": \"others\",  # \"stationery\",\n",
    "    \"ストール\": \"accessories\",  # \"scarves\",\n",
    "    \"スニーカー\": \"shoes\",  # \"Sneakers\",\n",
    "    \"ダウンジャケット\": \"coat\",  # \"down jackets\",\n",
    "    \"タンクトップ\": \"top\",  # \"tank tops\",\n",
    "    \"チュニック\": \"top\",  # \"tunic\",\n",
    "    \"トートバッグ\": \"bag\",  # \"tote bags\",\n",
    "    \"トップス\": \"top\",  # \"tops\",\n",
    "    \"ニット\": \"top\",  # \"knits\",\n",
    "    \"ニット帽\": \"hat\",  # \"knit hats\",\n",
    "    \"ネイル\": \"others\",  # \"nails\",\n",
    "    \"ネックレス\": \"accessories\",  # \"necklace\",\n",
    "    \"パーカー\": \"top\",  # \"parkers\",\n",
    "    \"バッグ\": \"bag\",  # \"bags\",\n",
    "    \"ハット\": \"hat\",  # \"hat\",\n",
    "    \"ハンドバッグ\": \"bag\",  # handbags\",\n",
    "    \"パンプス\": \"shoes\",  # \"pumps\",\n",
    "    \"ピアス\": \"accessories\",  # \"piercings\",\n",
    "    \"ブーツ\": \"shoes\",  # \"boots\",\n",
    "    \"ファッション小物\": \"accessories\",  # \"fashion accessories\",\n",
    "    \"ブラウス\": \"top\",  # \"blouses\",\n",
    "    \"フレグランス\": \"others\",  # \"fragrances\",\n",
    "    \"ブレスレット\": \"accessories\",  # \"bracelets\",\n",
    "    \"ブローチ\": \"accessories\",  # \"broaches\",\n",
    "    \"ヘアアクセサリー\": \"accessories\",  # \"hair accessories\",\n",
    "    \"ベルト\": \"accessories\",  # \"belts\",\n",
    "    \"ボストンバッグ\": \"bag\",  # \"Boston bags\",\n",
    "    \"ボディケア\": \"others\",  # \"body care\",\n",
    "    \"メガネ\": \"others\",  # \"glasses\",\n",
    "    \"リュック\": \"bag\",  # \"backpacks\",\n",
    "    \"リング\": \"accessories\",  # \"rings\",\n",
    "    \"ルームウェア\": \"others\",  # \"room wear\",\n",
    "    \"ルームシューズ\": \"others\",  # \"room shoes\",\n",
    "    \"レッグウェア\": \"others\",  # \"legwear\",\n",
    "    \"ロングスカート\": \"dress\",  # \"long skirts\",\n",
    "    \"ロングパンツ\": \"bottom\",  # \"long pants\",\n",
    "    \"ワンピース\": \"dress\",  # \"dresses\",\n",
    "    \"傘\": \"others\",  # \"umbrellas\",\n",
    "    \"小物\": \"others\",  # \"accessories\",\n",
    "    \"帽子\": \"hat\",  # \"hats\",\n",
    "    \"手袋\": \"accessories\",  # \"gloves\",\n",
    "    \"水着\": \"others\",  # \"swimwear\",\n",
    "    \"浴衣\": \"others\",  # \"yukata\",\n",
    "    \"腕時計\": \"others\",  # \"watches\",\n",
    "    \"財布\": \"others\",  # \"wallets\",\n",
    "    \"靴\": \"shoes\",  # \"shoes\",\n",
    "}\n",
    "\n",
    "allCates = set(CATEGORY_MAP.values())\n",
    "allCates.remove(\"others\")\n",
    "# sort all categories\n",
    "allCates = sorted(list(allCates))\n",
    "cateMap = dict()\n",
    "for cate in allCates:\n",
    "    cateMap[cate] = len(cateMap)\n",
    "print(cateMap)"
   ]
  },
  {
   "cell_type": "code",
   "execution_count": 3,
   "metadata": {},
   "outputs": [],
   "source": [
    "image_dir = \"raw\"\n",
    "label_dir = \"processed\"\n",
    "os.makedirs(label_dir, exist_ok=True)"
   ]
  },
  {
   "cell_type": "code",
   "execution_count": 4,
   "metadata": {
    "scrolled": false
   },
   "outputs": [],
   "source": [
    "# open raw json dataset\n",
    "json_file = \"processed/outfits.json\"\n",
    "with open(json_file, \"r\") as f:\n",
    "    allOutfits = json.load(f)"
   ]
  },
  {
   "cell_type": "code",
   "execution_count": 5,
   "metadata": {},
   "outputs": [
    {
     "name": "stdout",
     "output_type": "stream",
     "text": [
      "Number of outfits: 308686\n",
      "Outfit keys:\n",
      "['setId', 'setUrl', 'likeCount', 'user', 'items']\n",
      "Item keys:\n",
      "['imgUrl',\n",
      " 'price',\n",
      " 'category x color',\n",
      " 'itemId',\n",
      " 'itemName',\n",
      " 'itemUrl',\n",
      " 'breadcrumb',\n",
      " 'brands',\n",
      " 'categorys',\n",
      " 'options',\n",
      " 'colors',\n",
      " 'expressions']\n"
     ]
    }
   ],
   "source": [
    "print(\"Number of outfits:\", len(allOutfits))\n",
    "# Example outfit\n",
    "print(\"Outfit keys:\")\n",
    "pprint(list(allOutfits[0].keys()))\n",
    "print(\"Item keys:\")\n",
    "pprint(list(allOutfits[0][\"items\"][0].keys()))"
   ]
  },
  {
   "cell_type": "markdown",
   "metadata": {},
   "source": [
    "## Step-1: Clean outfit\n",
    "\n",
    "outfit that has 3 ~ 8 items will be retained"
   ]
  },
  {
   "cell_type": "code",
   "execution_count": 19,
   "metadata": {},
   "outputs": [
    {
     "data": {
      "application/vnd.jupyter.widget-view+json": {
       "model_id": "a442518d608b46259f94c3761b3d1750",
       "version_major": 2,
       "version_minor": 0
      },
      "text/plain": [
       "Canvas(toolbar=Toolbar(toolitems=[('Home', 'Reset original view', 'home', 'home'), ('Back', 'Back to previous …"
      ]
     },
     "metadata": {},
     "output_type": "display_data"
    }
   ],
   "source": [
    "# plot histogram of outfit size\n",
    "item_size = [len(outfit[\"items\"]) for outfit in allOutfits]\n",
    "\n",
    "fig = plt.figure()\n",
    "ax = fig.add_subplot(111)\n",
    "ax.hist(item_size, np.array(range(min(item_size) - 1, max(item_size) + 1, 1)) + 0.5, density=True)\n",
    "ax.set_title(\"Historgram of outfit size\")\n",
    "ax.set_xlabel(\"Number of items\")\n",
    "ax.set_ylabel(\"Number of outfits\");"
   ]
  },
  {
   "cell_type": "code",
   "execution_count": 17,
   "metadata": {},
   "outputs": [
    {
     "data": {
      "application/vnd.jupyter.widget-view+json": {
       "model_id": "3ca29c3bec974245a2779fb5d54cc430",
       "version_major": 2,
       "version_minor": 0
      },
      "text/plain": [
       "  0%|          | 0/308686 [00:00<?, ?it/s]"
      ]
     },
     "metadata": {},
     "output_type": "display_data"
    },
    {
     "name": "stdout",
     "output_type": "stream",
     "text": [
      "Number of outfits before clean: 308686\n",
      "Number of outfits after clean: 258274\n"
     ]
    }
   ],
   "source": [
    "# clean outfit\n",
    "min_size, max_size = 3, 8\n",
    "def clean_outfits(outfits: list, min_size=3, max_size=8):\n",
    "    cleaned_outfits = []\n",
    "    # each outfit is a dict\n",
    "    for outfit in tqdm(outfits):\n",
    "        cleaned_items = []\n",
    "        # each item is a dict\n",
    "        cate_set = set()\n",
    "        for item in outfit[\"items\"]:\n",
    "            # get the category name in Japanese\n",
    "            cate = item[\"category x color\"].split(\"\\u00d7\")[0].strip()\n",
    "            # get the category name in English\n",
    "            if CATEGORY_MAP.get(cate, \"others\") in allCates:\n",
    "                # if it in pre-defined set, then add the item to list\n",
    "                item[\"cate\"] = CATEGORY_MAP[cate]\n",
    "                cate_set.add(item[\"cate\"])\n",
    "                cleaned_items.append(item)\n",
    "        # if cleaned outfit has valid size\n",
    "        if min_size <= len(cleaned_items) <= max_size and len(cate_set) > 2:\n",
    "            outfit[\"items\"] = cleaned_items\n",
    "            cleaned_outfits.append(outfit)\n",
    "    print(\"Number of outfits before clean: {}\".format(len(outfits)))\n",
    "    print(\"Number of outfits after clean: {}\".format(len(cleaned_outfits)))\n",
    "    return cleaned_outfits\n",
    "\n",
    "cleanedOutfits = clean_outfits(allOutfits, min_size, max_size)"
   ]
  },
  {
   "cell_type": "code",
   "execution_count": 20,
   "metadata": {},
   "outputs": [
    {
     "data": {
      "application/vnd.jupyter.widget-view+json": {
       "model_id": "bfdc3e847f304ac0905e09901d356ba7",
       "version_major": 2,
       "version_minor": 0
      },
      "text/plain": [
       "Canvas(toolbar=Toolbar(toolitems=[('Home', 'Reset original view', 'home', 'home'), ('Back', 'Back to previous …"
      ]
     },
     "metadata": {},
     "output_type": "display_data"
    }
   ],
   "source": [
    "# plot the histogram of cleaned version\n",
    "item_size = [len(outfit[\"items\"]) for outfit in cleanedOutfits]\n",
    "plt.close()\n",
    "fig = plt.figure()\n",
    "ax = fig.add_subplot(111)\n",
    "ax.hist(item_size, np.array(range(min(item_size) - 1, max(item_size) + 1, 1)) + 0.5, density=True)\n",
    "ax.set_title(\"Historgram of outfit size (cleaned)\")\n",
    "ax.set_xlabel(\"Number of items\");\n",
    "ax.set_ylabel(\"Number of outfits\");"
   ]
  },
  {
   "cell_type": "markdown",
   "metadata": {},
   "source": [
    "## Step-2: Covnert outfit list to dict"
   ]
  },
  {
   "cell_type": "code",
   "execution_count": 21,
   "metadata": {},
   "outputs": [],
   "source": [
    "# covnert outfit list to user set\n",
    "def convert(outfits):\n",
    "    user_set = dict()\n",
    "    for outfit in tqdm(outfits):\n",
    "        set_id = int(outfit[\"setId\"])\n",
    "        user_id = int(outfit[\"user\"])\n",
    "        if user_id not in user_set:\n",
    "            user_set[user_id] = []\n",
    "        items = []\n",
    "        for item in outfit[\"items\"]:\n",
    "            item_id = int(item[\"itemId\"])\n",
    "            item_type = cateMap[item[\"cate\"]]\n",
    "            items.append(dict(\n",
    "                item_id = item_id,\n",
    "                item_type = item_type,\n",
    "            ))\n",
    "        user_set[user_id].append(dict(\n",
    "            set_id = set_id,\n",
    "            items = items,\n",
    "        ))\n",
    "    return user_set"
   ]
  },
  {
   "cell_type": "code",
   "execution_count": 22,
   "metadata": {},
   "outputs": [
    {
     "data": {
      "application/vnd.jupyter.widget-view+json": {
       "model_id": "e93a34a266494203b71ac73344a53360",
       "version_major": 2,
       "version_minor": 0
      },
      "text/plain": [
       "  0%|          | 0/258274 [00:00<?, ?it/s]"
      ]
     },
     "metadata": {},
     "output_type": "display_data"
    },
    {
     "name": "stdout",
     "output_type": "stream",
     "text": [
      "Number of users: 3565\n"
     ]
    }
   ],
   "source": [
    "userOutfitSet = convert(cleanedOutfits)\n",
    "print(\"Number of users: {}\".format(len(userOutfitSet)))"
   ]
  },
  {
   "cell_type": "code",
   "execution_count": 23,
   "metadata": {},
   "outputs": [
    {
     "name": "stdout",
     "output_type": "stream",
     "text": [
      "user_id:  2634830\n",
      "{'items': [{'item_id': 38651895, 'item_type': 7},\n",
      "           {'item_id': 38806471, 'item_type': 2},\n",
      "           {'item_id': 38963805, 'item_type': 3},\n",
      "           {'item_id': 37778889, 'item_type': 6},\n",
      "           {'item_id': 19955315, 'item_type': 0},\n",
      "           {'item_id': 37825488, 'item_type': 1}],\n",
      " 'set_id': 3985602}\n"
     ]
    }
   ],
   "source": [
    "# show one example\n",
    "one_outfit = list(userOutfitSet.values())[0][0]\n",
    "user_id = list(userOutfitSet.keys())[0]\n",
    "print(\"user_id: \", user_id)\n",
    "pprint(one_outfit)"
   ]
  },
  {
   "cell_type": "code",
   "execution_count": 24,
   "metadata": {},
   "outputs": [],
   "source": [
    "# count number of categories\n",
    "def count_category(dataset):\n",
    "    cate_set = set()\n",
    "    for user, sets in dataset.items():\n",
    "        for outfit in sets:\n",
    "            for item in outfit['items']:\n",
    "                cate_set.add(item['item_type'])\n",
    "    return cate_set"
   ]
  },
  {
   "cell_type": "code",
   "execution_count": 25,
   "metadata": {},
   "outputs": [
    {
     "name": "stdout",
     "output_type": "stream",
     "text": [
      "Number of category: 8\n"
     ]
    }
   ],
   "source": [
    "cate_set = count_category(userOutfitSet)\n",
    "print(\"Number of category: {}\".format(len(cate_set)))"
   ]
  },
  {
   "cell_type": "code",
   "execution_count": 26,
   "metadata": {
    "scrolled": false
   },
   "outputs": [],
   "source": [
    "def plot_num_outfits(dataset):\n",
    "    num_oufits = np.array([len(v) for v in dataset.values()])\n",
    "    min_size = min(num_oufits)\n",
    "    max_size = max(num_oufits)\n",
    "    print(\"Number of outfits min: {}, max: {}\".format(min_size, max_size))\n",
    "    ranges = np.array(range(min_size - 1, max_size + 1, 10)) + 0.5\n",
    "\n",
    "    plt.close()\n",
    "    fig = plt.figure()\n",
    "    ax = fig.add_subplot(111)\n",
    "    ax.hist(num_oufits, ranges)\n",
    "    ax.set_xlabel(\"Number of outfits\")\n",
    "    ax.set_ylabel(\"Number of users\");\n",
    "\n",
    "    fig = plt.figure()\n",
    "    ax = fig.add_subplot(111)\n",
    "    ax.hist(num_oufits, ranges, cumulative=True, density=True)\n",
    "    ax.set_xlabel(\"Number of outfits\")\n",
    "    ax.set_ylabel(\"Percentage of users\");"
   ]
  },
  {
   "cell_type": "code",
   "execution_count": 27,
   "metadata": {},
   "outputs": [
    {
     "name": "stdout",
     "output_type": "stream",
     "text": [
      "Number of outfits min: 1, max: 498\n"
     ]
    },
    {
     "data": {
      "application/vnd.jupyter.widget-view+json": {
       "model_id": "71127b36b786447186fc206f9ed45b99",
       "version_major": 2,
       "version_minor": 0
      },
      "text/plain": [
       "Canvas(toolbar=Toolbar(toolitems=[('Home', 'Reset original view', 'home', 'home'), ('Back', 'Back to previous …"
      ]
     },
     "metadata": {},
     "output_type": "display_data"
    },
    {
     "data": {
      "application/vnd.jupyter.widget-view+json": {
       "model_id": "096efc3eb9954162ac8c1c08f30cc66d",
       "version_major": 2,
       "version_minor": 0
      },
      "text/plain": [
       "Canvas(toolbar=Toolbar(toolitems=[('Home', 'Reset original view', 'home', 'home'), ('Back', 'Back to previous …"
      ]
     },
     "metadata": {},
     "output_type": "display_data"
    }
   ],
   "source": [
    "plot_num_outfits(userOutfitSet)"
   ]
  },
  {
   "cell_type": "markdown",
   "metadata": {},
   "source": [
    "## Step-3: Clean users\n",
    "\n",
    "user that has more than 120 outfit will be retained."
   ]
  },
  {
   "cell_type": "code",
   "execution_count": 41,
   "metadata": {},
   "outputs": [
    {
     "data": {
      "application/vnd.jupyter.widget-view+json": {
       "model_id": "322911ef99f54d26bc7d2ce14674075c",
       "version_major": 2,
       "version_minor": 0
      },
      "text/plain": [
       "  0%|          | 0/3565 [00:00<?, ?it/s]"
      ]
     },
     "metadata": {},
     "output_type": "display_data"
    },
    {
     "name": "stdout",
     "output_type": "stream",
     "text": [
      "Number of users before: 3,565\n",
      "Number of users after: 608\n",
      "Number of categories: 8\n"
     ]
    }
   ],
   "source": [
    "# 1. clean users that has less than 120 outfit\n",
    "def clean_outfits(dataset):\n",
    "    cleaned_user_set = dict()\n",
    "    num_outfits = 120\n",
    "    cnt = 0\n",
    "    for user, sets in tqdm(dataset.items()):\n",
    "        if len(sets) >= num_outfits:\n",
    "            cleaned_user_set[user] = sets\n",
    "    print(\"Number of users before: {:,}\".format(len(dataset)))\n",
    "    print(\"Number of users after: {:,}\".format(len(cleaned_user_set)))\n",
    "    return cleaned_user_set\n",
    "\n",
    "cleanedUserSet = clean_outfits(userOutfitSet)\n",
    "cate_set = count_category(cleanedUserSet)\n",
    "print(\"Number of categories: {}\".format(len(cate_set)))"
   ]
  },
  {
   "cell_type": "code",
   "execution_count": 29,
   "metadata": {},
   "outputs": [
    {
     "name": "stdout",
     "output_type": "stream",
     "text": [
      "Number of outfits min: 120, max: 498\n"
     ]
    },
    {
     "data": {
      "application/vnd.jupyter.widget-view+json": {
       "model_id": "1379bfd3289a49d3986dce28486a5d56",
       "version_major": 2,
       "version_minor": 0
      },
      "text/plain": [
       "Canvas(toolbar=Toolbar(toolitems=[('Home', 'Reset original view', 'home', 'home'), ('Back', 'Back to previous …"
      ]
     },
     "metadata": {},
     "output_type": "display_data"
    },
    {
     "data": {
      "application/vnd.jupyter.widget-view+json": {
       "model_id": "4216f54b257a4a18a2df0ae246876349",
       "version_major": 2,
       "version_minor": 0
      },
      "text/plain": [
       "Canvas(toolbar=Toolbar(toolitems=[('Home', 'Reset original view', 'home', 'home'), ('Back', 'Back to previous …"
      ]
     },
     "metadata": {},
     "output_type": "display_data"
    }
   ],
   "source": [
    "plot_num_outfits(cleanedUserSet)"
   ]
  },
  {
   "cell_type": "code",
   "execution_count": 30,
   "metadata": {},
   "outputs": [
    {
     "data": {
      "application/vnd.jupyter.widget-view+json": {
       "model_id": "42ec78940f2145b6988aa00aa801d7fd",
       "version_major": 2,
       "version_minor": 0
      },
      "text/plain": [
       "  0%|          | 0/608 [00:00<?, ?it/s]"
      ]
     },
     "metadata": {},
     "output_type": "display_data"
    }
   ],
   "source": [
    "def split_outfits(dataset, train=85, val=15, test=20):\n",
    "    train_user_set, val_user_set, test_user_set = dict(), dict(), dict()\n",
    "    for user, sets in tqdm(dataset.items()):\n",
    "        sets = np.random.permutation(sets).tolist()\n",
    "        train_user_set[user] = sets[:train]\n",
    "        val_user_set[user] = sets[train:val+train]\n",
    "        test_user_set[user] = sets[val+train:train+val+test]\n",
    "    return dict(train=train_user_set, val=val_user_set, test=test_user_set)\n",
    "\n",
    "splitUserSet = split_outfits(cleanedUserSet)\n",
    "phases = list(splitUserSet.keys())"
   ]
  },
  {
   "cell_type": "code",
   "execution_count": 31,
   "metadata": {},
   "outputs": [
    {
     "name": "stdout",
     "output_type": "stream",
     "text": [
      "Number of users in train: 608\n",
      "Number of categories in train: 8\n",
      "Number of users in val: 608\n",
      "Number of categories in val: 8\n",
      "Number of users in test: 608\n",
      "Number of categories in test: 8\n"
     ]
    }
   ],
   "source": [
    "for k, v in splitUserSet.items():\n",
    "    print(\"Number of users in {}: {}\".format(k, len(v)))\n",
    "    print(\"Number of categories in {}: {}\".format(k, len(count_category(v))))"
   ]
  },
  {
   "cell_type": "code",
   "execution_count": 32,
   "metadata": {},
   "outputs": [],
   "source": [
    "# leave outf users for cold-start problem\n",
    "def split_user(dataset, user_idxs):\n",
    "    x, y = dict(), dict()\n",
    "    for user, sets in dataset.items():\n",
    "        if user in user_idxs:\n",
    "            x[user] = sets\n",
    "        else:\n",
    "            y[user] = sets\n",
    "    return x, y"
   ]
  },
  {
   "cell_type": "code",
   "execution_count": 33,
   "metadata": {},
   "outputs": [
    {
     "name": "stdout",
     "output_type": "stream",
     "text": [
      "Number of categories in old user train: 8\n",
      "Number of categories in new user train: 8\n",
      "Number of categories in old user train: 8\n",
      "Number of categories in new user train: 8\n",
      "Number of categories in old user train: 8\n",
      "Number of categories in new user train: 8\n"
     ]
    }
   ],
   "source": [
    "num_all_users = len(cleanedUserSet)\n",
    "num_old_users = 550\n",
    "num_new_users = num_all_users - num_old_users\n",
    "\n",
    "user_idxs = np.random.permutation(list(cleanedUserSet.keys())).tolist()[:num_old_users]\n",
    "# for regular task\n",
    "oldUserSplit = dict()\n",
    "# for cold-start task\n",
    "newUserSplit = dict()\n",
    "\n",
    "for phase, outfit_split in splitUserSet.items():\n",
    "    x, y = split_user(outfit_split, user_idxs)\n",
    "    oldUserSplit[phase] = x\n",
    "    newUserSplit[phase] = y\n",
    "    # no user overlap\n",
    "    assert len(set(x.keys()) & set(y.keys())) == 0\n",
    "    print(\"Number of categories in old user train: {}\".format(len(count_category(x))))\n",
    "    print(\"Number of categories in new user train: {}\".format(len(count_category(y))))"
   ]
  },
  {
   "cell_type": "code",
   "execution_count": 34,
   "metadata": {},
   "outputs": [
    {
     "data": {
      "application/vnd.jupyter.widget-view+json": {
       "model_id": "1fb070d021f848849c3624bfb762a60c",
       "version_major": 2,
       "version_minor": 0
      },
      "text/plain": [
       "Canvas(toolbar=Toolbar(toolitems=[('Home', 'Reset original view', 'home', 'home'), ('Back', 'Back to previous …"
      ]
     },
     "metadata": {},
     "output_type": "display_data"
    }
   ],
   "source": [
    "# plot number of items of each category\n",
    "def count_cate_set(dataset):\n",
    "    cate_cnt = [0] * len(cateMap)\n",
    "    for user, outfits in dataset.items():\n",
    "        for oft in outfits:\n",
    "            for item in oft[\"items\"]:\n",
    "                cate_cnt[item['item_type']] += 1\n",
    "    return cate_cnt\n",
    "\n",
    "cate_count = []\n",
    "for dataset in oldUserSplit.values():\n",
    "    cate_count.append(count_cate_set(dataset))\n",
    "for dataset in newUserSplit.values():\n",
    "    cate_count.append(count_cate_set(dataset))\n",
    "plt.close()\n",
    "figure = plt.figure()\n",
    "ax = figure.add_subplot(111)\n",
    "for cnt in cate_count:\n",
    "    ax.plot(np.array(cnt)/ sum(cnt))"
   ]
  },
  {
   "cell_type": "code",
   "execution_count": 35,
   "metadata": {},
   "outputs": [],
   "source": [
    "def get_user_idx_map(split_data):\n",
    "    user_idx_set = set()\n",
    "    for dataset in split_data.values():\n",
    "        user_idx_set |= set(dataset.keys())\n",
    "    user_idx_map = {user_id: i for i, user_id in enumerate(user_idx_set)}\n",
    "    return user_idx_map\n",
    "\n",
    "def convert_tuples(dataset, user_idx_map):\n",
    "    max_item = 8\n",
    "    tuples = []\n",
    "    for user, outfits in dataset.items():\n",
    "        idx = user_idx_map[user]\n",
    "        for outfit in outfits:\n",
    "            tpl = [-1] * 8\n",
    "            cate = [-1] * 8\n",
    "            for n, item in enumerate(outfit[\"items\"]):\n",
    "                tpl[n] = item['item_id']\n",
    "                cate[n] = item[\"item_type\"]\n",
    "            tuples.append([idx] + tpl + cate)\n",
    "    return tuples"
   ]
  },
  {
   "cell_type": "code",
   "execution_count": 36,
   "metadata": {},
   "outputs": [],
   "source": [
    "def delete_split_overlap(split, num_users=550):\n",
    "    def to_array(split_set):\n",
    "        array = np.array(list(split_set))\n",
    "        array = array[array[:, 0].argsort()]\n",
    "        return array\n",
    "    train_set = set(map(tuple, split['train']))\n",
    "    valid_set = set(map(tuple, split['val']))\n",
    "    test_set = set(map(tuple, split['test']))\n",
    "    print(\"Before\")\n",
    "    print(\"Number of train: {:.3f}\".format(len(train_set) / num_users))\n",
    "    print(\"Number of valid: {:.3f}\".format(len(valid_set) / num_users))\n",
    "    print(\"Number of test: {:.3f}\".format(len(test_set) / num_users))\n",
    "    # deleta overlap outfits\n",
    "    test_set = test_set - train_set - valid_set\n",
    "    valid_set = valid_set - test_set - train_set\n",
    "    print(\"After\")\n",
    "    print(\"Number of train: {:.3f}\".format(len(train_set) / num_users))\n",
    "    print(\"Number of valid: {:.3f}\".format(len(valid_set) / num_users))\n",
    "    print(\"Number of test: {:.3f}\".format(len(test_set) / num_users))\n",
    "    return dict(\n",
    "        train=to_array(train_set), \n",
    "        val=to_array(valid_set),\n",
    "        test=to_array(test_set)\n",
    "    )"
   ]
  },
  {
   "cell_type": "code",
   "execution_count": 37,
   "metadata": {},
   "outputs": [
    {
     "name": "stdout",
     "output_type": "stream",
     "text": [
      "Before\n",
      "Number of train: 84.929\n",
      "Number of valid: 14.998\n",
      "Number of test: 19.998\n",
      "After\n",
      "Number of train: 84.929\n",
      "Number of valid: 14.976\n",
      "Number of test: 19.958\n"
     ]
    }
   ],
   "source": [
    "user_idx_map = get_user_idx_map(oldUserSplit)\n",
    "oldUserTuples = dict()\n",
    "for key, dataset in oldUserSplit.items():\n",
    "    oldUserTuples[key] = convert_tuples(dataset, user_idx_map)\n",
    "oldUserTuples = delete_split_overlap(oldUserTuples, num_old_users)"
   ]
  },
  {
   "cell_type": "code",
   "execution_count": 38,
   "metadata": {},
   "outputs": [
    {
     "name": "stdout",
     "output_type": "stream",
     "text": [
      "Before\n",
      "Number of train: 84.931\n",
      "Number of valid: 15.000\n",
      "Number of test: 20.000\n",
      "After\n",
      "Number of train: 84.931\n",
      "Number of valid: 14.983\n",
      "Number of test: 19.983\n"
     ]
    }
   ],
   "source": [
    "user_idx_map = get_user_idx_map(newUserSplit)\n",
    "newUserTuples = dict()\n",
    "for key, dataset in newUserSplit.items():\n",
    "    newUserTuples[key] = convert_tuples(dataset, user_idx_map)\n",
    "newUserTuples = delete_split_overlap(newUserTuples, num_new_users)"
   ]
  },
  {
   "cell_type": "code",
   "execution_count": 172,
   "metadata": {},
   "outputs": [
    {
     "name": "stdout",
     "output_type": "stream",
     "text": [
      "Before\n",
      "Number of train: 84.922\n",
      "Number of valid: 15.000\n",
      "Number of test: 19.998\n",
      "After\n",
      "Number of train: 84.922\n",
      "Number of valid: 14.973\n",
      "Number of test: 19.960\n",
      "Before\n",
      "Number of train: 84.914\n",
      "Number of valid: 15.000\n",
      "Number of test: 20.000\n",
      "After\n",
      "Number of train: 84.914\n",
      "Number of valid: 14.983\n",
      "Number of test: 19.914\n"
     ]
    }
   ],
   "source": [
    "def load_tuples(file):\n",
    "    return np.array(pd.read_csv(file, dtype=np.int, header=None))\n",
    "# load splits from previous file\n",
    "oldUserTuples = delete_split_overlap({\n",
    "    \"train\": load_tuples(\"./label/train_550_pos.txt\"),\n",
    "    \"val\": load_tuples(\"label/val_550_pos.txt\"),\n",
    "    \"test\": load_tuples(\"label/test_550_pos.txt\")\n",
    "}, 550)\n",
    "newUserTuples = delete_split_overlap({\n",
    "    \"train\": load_tuples(\"./label/train_58_pos.txt\"),\n",
    "    \"val\": load_tuples(\"label/val_58_pos.txt\"),\n",
    "    \"test\": load_tuples(\"label/test_58_pos.txt\")\n",
    "}, 58)"
   ]
  },
  {
   "cell_type": "code",
   "execution_count": 173,
   "metadata": {},
   "outputs": [],
   "source": [
    "import csv\n",
    "if True:\n",
    "    for phase, tuples in oldUserTuples.items():\n",
    "        with open(\"processed/{}_{}_pos.txt\".format(phase, num_old_users), \"w\") as f:\n",
    "            writer = csv.writer(f)\n",
    "            writer.writerows(tuples)\n",
    "\n",
    "    for phase, tuples in newUserTuples.items():\n",
    "        with open(\"processed/{}_{}_pos.txt\".format(phase, num_new_users), \"w\") as f:\n",
    "            writer = csv.writer(f)\n",
    "            writer.writerows(tuples)"
   ]
  },
  {
   "cell_type": "code",
   "execution_count": 174,
   "metadata": {},
   "outputs": [],
   "source": [
    "def get_item_list(pos_tuples):\n",
    "    item_set = [set() for _ in range(8 + 1)]\n",
    "    item_ids, item_types = np.split(pos_tuples[:, 1:], 2, axis=1)\n",
    "    for idxs, types in zip(item_ids, item_types):\n",
    "        for idx, c in zip(idxs, types):\n",
    "            item_set[c].add(idx)\n",
    "    return [np.array(list(s)) for s in item_set]\n",
    "\n",
    "def generate_neg_tuples(pos_tuples, ratio=10):\n",
    "    neg_tpls = []\n",
    "    item_set = get_item_list(pos_tuples)\n",
    "    for tpl in tqdm(pos_tuples):\n",
    "        for _ in range(ratio):\n",
    "            neg_tpl = [-1] * 17\n",
    "            user_id = tpl[0]\n",
    "            neg_tpl[0] = user_id\n",
    "            items = tpl[1:9]\n",
    "            cate = tpl[9:]\n",
    "            neg_tpl[9:] = tpl[9:]\n",
    "            for i, cate in enumerate(tpl[9:]):\n",
    "                if cate == -1:\n",
    "                    break\n",
    "                idx = np.random.choice(item_set[cate])\n",
    "                neg_tpl[i+1] = idx\n",
    "            neg_tpls.append(neg_tpl)\n",
    "    return np.array(neg_tpls)"
   ]
  },
  {
   "cell_type": "code",
   "execution_count": 179,
   "metadata": {
    "scrolled": false
   },
   "outputs": [
    {
     "data": {
      "application/vnd.jupyter.widget-view+json": {
       "model_id": "91efb91fb2cb4d9bbd5bfa84cbf8c691",
       "version_major": 2,
       "version_minor": 0
      },
      "text/plain": [
       "  0%|          | 0/46707 [00:00<?, ?it/s]"
      ]
     },
     "metadata": {},
     "output_type": "display_data"
    },
    {
     "name": "stdout",
     "output_type": "stream",
     "text": [
      "[set(), set(), set(), set(), set(), set(), set(), set(), set()]\n"
     ]
    },
    {
     "data": {
      "application/vnd.jupyter.widget-view+json": {
       "model_id": "8f847d7a19e64fbebd579bf8fcaae0e3",
       "version_major": 2,
       "version_minor": 0
      },
      "text/plain": [
       "  0%|          | 0/8235 [00:00<?, ?it/s]"
      ]
     },
     "metadata": {},
     "output_type": "display_data"
    },
    {
     "name": "stdout",
     "output_type": "stream",
     "text": [
      "[set(), set(), set(), set(), set(), set(), set(), set(), set()]\n"
     ]
    },
    {
     "data": {
      "application/vnd.jupyter.widget-view+json": {
       "model_id": "b553ab622b754da984232b19f85ceb95",
       "version_major": 2,
       "version_minor": 0
      },
      "text/plain": [
       "  0%|          | 0/10978 [00:00<?, ?it/s]"
      ]
     },
     "metadata": {},
     "output_type": "display_data"
    },
    {
     "name": "stdout",
     "output_type": "stream",
     "text": [
      "[set(), set(), set(), set(), set(), set(), set(), set(), set()]\n"
     ]
    }
   ],
   "source": [
    "for p in [\"train\", \"val\", \"test\"]:\n",
    "    pos_tpls = oldUserTuples[p]\n",
    "    neg_tpls = generate_neg_tuples(pos_tpls)\n",
    "    pos_item_list = get_item_list(pos_tpls)\n",
    "    neg_item_list = get_item_list(neg_tpls)\n",
    "    print([set(neg_item_list[i]) - set(pos_item_list[i]) for i in range(9)])\n",
    "    with open(\"processed/{}_{}_neg.txt\".format(p, num_old_users), \"w\") as f:\n",
    "        writer = csv.writer(f)\n",
    "        writer.writerows(neg_tpls)"
   ]
  },
  {
   "cell_type": "code",
   "execution_count": 180,
   "metadata": {},
   "outputs": [
    {
     "data": {
      "application/vnd.jupyter.widget-view+json": {
       "model_id": "75bba4d89aab46a8877095f35835a68d",
       "version_major": 2,
       "version_minor": 0
      },
      "text/plain": [
       "  0%|          | 0/4925 [00:00<?, ?it/s]"
      ]
     },
     "metadata": {},
     "output_type": "display_data"
    },
    {
     "name": "stdout",
     "output_type": "stream",
     "text": [
      "[set(), set(), set(), set(), set(), set(), set(), set(), set()]\n"
     ]
    },
    {
     "data": {
      "application/vnd.jupyter.widget-view+json": {
       "model_id": "0d32b4ca04c84b89bf2e5ad1581d1a55",
       "version_major": 2,
       "version_minor": 0
      },
      "text/plain": [
       "  0%|          | 0/869 [00:00<?, ?it/s]"
      ]
     },
     "metadata": {},
     "output_type": "display_data"
    },
    {
     "name": "stdout",
     "output_type": "stream",
     "text": [
      "[set(), set(), set(), set(), set(), set(), set(), set(), set()]\n"
     ]
    },
    {
     "data": {
      "application/vnd.jupyter.widget-view+json": {
       "model_id": "68c6d055af3c4bff8d50ed40687b674b",
       "version_major": 2,
       "version_minor": 0
      },
      "text/plain": [
       "  0%|          | 0/1155 [00:00<?, ?it/s]"
      ]
     },
     "metadata": {},
     "output_type": "display_data"
    },
    {
     "name": "stdout",
     "output_type": "stream",
     "text": [
      "[set(), set(), set(), set(), set(), set(), set(), set(), set()]\n"
     ]
    }
   ],
   "source": [
    "for p in [\"train\", \"val\", \"test\"]:\n",
    "    pos_tpls = newUserTuples[p]\n",
    "    neg_tpls = generate_neg_tuples(pos_tpls)\n",
    "    pos_item_list = get_item_list(pos_tpls)\n",
    "    neg_item_list = get_item_list(neg_tpls)\n",
    "    print([set(neg_item_list[i]) - set(pos_item_list[i]) for i in range(9)])\n",
    "    with open(\"processed/{}_{}_neg.txt\".format(p, num_new_users), \"w\") as f:\n",
    "        writer = csv.writer(f)\n",
    "        writer.writerows(neg_tpls)"
   ]
  },
  {
   "cell_type": "code",
   "execution_count": null,
   "metadata": {},
   "outputs": [],
   "source": []
  }
 ],
 "metadata": {
  "kernelspec": {
   "display_name": "Python 3 (ipykernel)",
   "language": "python",
   "name": "python3"
  },
  "language_info": {
   "codemirror_mode": {
    "name": "ipython",
    "version": 3
   },
   "file_extension": ".py",
   "mimetype": "text/x-python",
   "name": "python",
   "nbconvert_exporter": "python",
   "pygments_lexer": "ipython3",
   "version": "3.8.10"
  }
 },
 "nbformat": 4,
 "nbformat_minor": 2
}
