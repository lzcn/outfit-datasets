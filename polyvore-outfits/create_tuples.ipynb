{
 "cells": [
  {
   "cell_type": "code",
   "execution_count": 81,
   "metadata": {},
   "outputs": [],
   "source": [
    "import csv\n",
    "import json\n",
    "import os\n",
    "import os.path\n",
    "import pickle as pkl\n",
    "from pprint import pprint\n",
    "\n",
    "import matplotlib.pyplot as plt\n",
    "import numpy as np\n",
    "import pandas as pd\n",
    "import torchutils\n",
    "from tqdm import tqdm\n"
   ]
  },
  {
   "cell_type": "code",
   "execution_count": 82,
   "metadata": {},
   "outputs": [],
   "source": [
    "def load_json(fn):\n",
    "    with open(fn, \"r\") as f:\n",
    "        data = json.load(f)\n",
    "    return data"
   ]
  },
  {
   "cell_type": "code",
   "execution_count": 83,
   "metadata": {},
   "outputs": [],
   "source": [
    "inputDir = \"release\"\n",
    "outputDir = \"processed\""
   ]
  },
  {
   "cell_type": "code",
   "execution_count": 84,
   "metadata": {},
   "outputs": [
    {
     "name": "stdout",
     "output_type": "stream",
     "text": [
      "Nubmer of images: 261,057\n"
     ]
    }
   ],
   "source": [
    "# all imgages saved in item_id.jpg format\n",
    "image_files = torchutils.files.scan_files(f\"{inputDir}/images\", suffix=\"jpg\")\n",
    "print(\"Nubmer of images: {:,}\".format(len(image_files)))"
   ]
  },
  {
   "cell_type": "code",
   "execution_count": 85,
   "metadata": {},
   "outputs": [
    {
     "name": "stdout",
     "output_type": "stream",
     "text": [
      "Number of items: 251008\n",
      "======== Example item ========\n",
      "{'category_id': '105',\n",
      " 'catgeories': '',\n",
      " 'description': '',\n",
      " 'related': '',\n",
      " 'semantic_category': 'scarves',\n",
      " 'title': '',\n",
      " 'url_name': 'double print scarf'}\n",
      "Number of items: 251008\n",
      "Number of categories: 153\n",
      "Semantic type to id\n",
      "{'accessories': 0,\n",
      " 'all-body': 1,\n",
      " 'bags': 2,\n",
      " 'bottoms': 3,\n",
      " 'hats': 4,\n",
      " 'jewellery': 5,\n",
      " 'outerwear': 6,\n",
      " 'scarves': 7,\n",
      " 'shoes': 8,\n",
      " 'sunglasses': 9,\n",
      " 'tops': 10}\n"
     ]
    }
   ],
   "source": [
    "metaData = torchutils.io.load_json(f\"{inputDir}/polyvore_item_metadata.json\")\n",
    "\n",
    "item = np.random.choice(list(metaData.values()))\n",
    "print(\"Number of items: {}\".format(len(metaData)))\n",
    "print(\"{:=^30}\".format(\" Example item \"))\n",
    "pprint(item)\n",
    "\n",
    "# item id to item semantic category\n",
    "itemType = {}\n",
    "\n",
    "# fine grained categories to semantic category\n",
    "fineGrained2Semantic = dict()\n",
    "\n",
    "# set of all semantic categories\n",
    "semanticSet = set()\n",
    "for k, v in metaData.items():\n",
    "    semanticSet.add(v[\"semantic_category\"])\n",
    "    fineGrained2Semantic[v[\"category_id\"]] = v[\"semantic_category\"]\n",
    "    itemType[k] = v[\"semantic_category\"]\n",
    "\n",
    "\n",
    "\n",
    "# smenatic to id\n",
    "semanticDict = dict()\n",
    "for cate in sorted(semanticSet):\n",
    "    semanticDict[cate] = len(semanticDict)\n",
    "\n",
    "print(\"Number of items: %d\" % len(metaData))\n",
    "print(\"Number of categories: {}\".format(len(fineGrained2Semantic)))\n",
    "\n",
    "print(\"Semantic type to id\")\n",
    "pprint(semanticDict)\n",
    "\n",
    "itemList = [set() for _ in range(len(semanticSet))]\n"
   ]
  },
  {
   "cell_type": "markdown",
   "metadata": {},
   "source": [
    "# Reformat the outfit tuples\n"
   ]
  },
  {
   "cell_type": "code",
   "execution_count": 86,
   "metadata": {},
   "outputs": [
    {
     "name": "stdout",
     "output_type": "stream",
     "text": [
      "Number of conditions: 66\n"
     ]
    },
    {
     "data": {
      "text/html": [
       "<div>\n",
       "<style scoped>\n",
       "    .dataframe tbody tr th:only-of-type {\n",
       "        vertical-align: middle;\n",
       "    }\n",
       "\n",
       "    .dataframe tbody tr th {\n",
       "        vertical-align: top;\n",
       "    }\n",
       "\n",
       "    .dataframe thead th {\n",
       "        text-align: right;\n",
       "    }\n",
       "</style>\n",
       "<table border=\"1\" class=\"dataframe\">\n",
       "  <thead>\n",
       "    <tr style=\"text-align: right;\">\n",
       "      <th>1</th>\n",
       "      <th>accessories</th>\n",
       "      <th>all-body</th>\n",
       "      <th>bags</th>\n",
       "      <th>bottoms</th>\n",
       "      <th>hats</th>\n",
       "      <th>jewellery</th>\n",
       "      <th>outerwear</th>\n",
       "      <th>scarves</th>\n",
       "      <th>shoes</th>\n",
       "      <th>sunglasses</th>\n",
       "      <th>tops</th>\n",
       "    </tr>\n",
       "    <tr>\n",
       "      <th>0</th>\n",
       "      <th></th>\n",
       "      <th></th>\n",
       "      <th></th>\n",
       "      <th></th>\n",
       "      <th></th>\n",
       "      <th></th>\n",
       "      <th></th>\n",
       "      <th></th>\n",
       "      <th></th>\n",
       "      <th></th>\n",
       "      <th></th>\n",
       "    </tr>\n",
       "  </thead>\n",
       "  <tbody>\n",
       "    <tr>\n",
       "      <th>accessories</th>\n",
       "      <td>+</td>\n",
       "      <td>+</td>\n",
       "      <td>NaN</td>\n",
       "      <td>+</td>\n",
       "      <td>NaN</td>\n",
       "      <td>NaN</td>\n",
       "      <td>+</td>\n",
       "      <td>+</td>\n",
       "      <td>NaN</td>\n",
       "      <td>NaN</td>\n",
       "      <td>NaN</td>\n",
       "    </tr>\n",
       "    <tr>\n",
       "      <th>all-body</th>\n",
       "      <td>NaN</td>\n",
       "      <td>+</td>\n",
       "      <td>NaN</td>\n",
       "      <td>+</td>\n",
       "      <td>NaN</td>\n",
       "      <td>NaN</td>\n",
       "      <td>+</td>\n",
       "      <td>+</td>\n",
       "      <td>NaN</td>\n",
       "      <td>NaN</td>\n",
       "      <td>NaN</td>\n",
       "    </tr>\n",
       "    <tr>\n",
       "      <th>bags</th>\n",
       "      <td>+</td>\n",
       "      <td>+</td>\n",
       "      <td>+</td>\n",
       "      <td>+</td>\n",
       "      <td>+</td>\n",
       "      <td>+</td>\n",
       "      <td>+</td>\n",
       "      <td>+</td>\n",
       "      <td>+</td>\n",
       "      <td>+</td>\n",
       "      <td>+</td>\n",
       "    </tr>\n",
       "    <tr>\n",
       "      <th>bottoms</th>\n",
       "      <td>NaN</td>\n",
       "      <td>NaN</td>\n",
       "      <td>NaN</td>\n",
       "      <td>+</td>\n",
       "      <td>NaN</td>\n",
       "      <td>NaN</td>\n",
       "      <td>+</td>\n",
       "      <td>+</td>\n",
       "      <td>NaN</td>\n",
       "      <td>NaN</td>\n",
       "      <td>NaN</td>\n",
       "    </tr>\n",
       "    <tr>\n",
       "      <th>hats</th>\n",
       "      <td>+</td>\n",
       "      <td>+</td>\n",
       "      <td>NaN</td>\n",
       "      <td>+</td>\n",
       "      <td>+</td>\n",
       "      <td>NaN</td>\n",
       "      <td>+</td>\n",
       "      <td>+</td>\n",
       "      <td>NaN</td>\n",
       "      <td>+</td>\n",
       "      <td>+</td>\n",
       "    </tr>\n",
       "    <tr>\n",
       "      <th>jewellery</th>\n",
       "      <td>+</td>\n",
       "      <td>+</td>\n",
       "      <td>NaN</td>\n",
       "      <td>+</td>\n",
       "      <td>+</td>\n",
       "      <td>+</td>\n",
       "      <td>+</td>\n",
       "      <td>+</td>\n",
       "      <td>NaN</td>\n",
       "      <td>+</td>\n",
       "      <td>+</td>\n",
       "    </tr>\n",
       "    <tr>\n",
       "      <th>outerwear</th>\n",
       "      <td>NaN</td>\n",
       "      <td>NaN</td>\n",
       "      <td>NaN</td>\n",
       "      <td>NaN</td>\n",
       "      <td>NaN</td>\n",
       "      <td>NaN</td>\n",
       "      <td>+</td>\n",
       "      <td>NaN</td>\n",
       "      <td>NaN</td>\n",
       "      <td>NaN</td>\n",
       "      <td>NaN</td>\n",
       "    </tr>\n",
       "    <tr>\n",
       "      <th>scarves</th>\n",
       "      <td>NaN</td>\n",
       "      <td>NaN</td>\n",
       "      <td>NaN</td>\n",
       "      <td>NaN</td>\n",
       "      <td>NaN</td>\n",
       "      <td>NaN</td>\n",
       "      <td>+</td>\n",
       "      <td>+</td>\n",
       "      <td>NaN</td>\n",
       "      <td>NaN</td>\n",
       "      <td>NaN</td>\n",
       "    </tr>\n",
       "    <tr>\n",
       "      <th>shoes</th>\n",
       "      <td>+</td>\n",
       "      <td>+</td>\n",
       "      <td>NaN</td>\n",
       "      <td>+</td>\n",
       "      <td>+</td>\n",
       "      <td>+</td>\n",
       "      <td>+</td>\n",
       "      <td>+</td>\n",
       "      <td>+</td>\n",
       "      <td>+</td>\n",
       "      <td>+</td>\n",
       "    </tr>\n",
       "    <tr>\n",
       "      <th>sunglasses</th>\n",
       "      <td>+</td>\n",
       "      <td>+</td>\n",
       "      <td>NaN</td>\n",
       "      <td>+</td>\n",
       "      <td>NaN</td>\n",
       "      <td>NaN</td>\n",
       "      <td>+</td>\n",
       "      <td>+</td>\n",
       "      <td>NaN</td>\n",
       "      <td>+</td>\n",
       "      <td>NaN</td>\n",
       "    </tr>\n",
       "    <tr>\n",
       "      <th>tops</th>\n",
       "      <td>+</td>\n",
       "      <td>+</td>\n",
       "      <td>NaN</td>\n",
       "      <td>+</td>\n",
       "      <td>NaN</td>\n",
       "      <td>NaN</td>\n",
       "      <td>+</td>\n",
       "      <td>+</td>\n",
       "      <td>NaN</td>\n",
       "      <td>+</td>\n",
       "      <td>+</td>\n",
       "    </tr>\n",
       "  </tbody>\n",
       "</table>\n",
       "</div>"
      ],
      "text/plain": [
       "1           accessories all-body bags bottoms hats jewellery outerwear  \\\n",
       "0                                                                        \n",
       "accessories           +        +  NaN       +  NaN       NaN         +   \n",
       "all-body            NaN        +  NaN       +  NaN       NaN         +   \n",
       "bags                  +        +    +       +    +         +         +   \n",
       "bottoms             NaN      NaN  NaN       +  NaN       NaN         +   \n",
       "hats                  +        +  NaN       +    +       NaN         +   \n",
       "jewellery             +        +  NaN       +    +         +         +   \n",
       "outerwear           NaN      NaN  NaN     NaN  NaN       NaN         +   \n",
       "scarves             NaN      NaN  NaN     NaN  NaN       NaN         +   \n",
       "shoes                 +        +  NaN       +    +         +         +   \n",
       "sunglasses            +        +  NaN       +  NaN       NaN         +   \n",
       "tops                  +        +  NaN       +  NaN       NaN         +   \n",
       "\n",
       "1           scarves shoes sunglasses tops  \n",
       "0                                          \n",
       "accessories       +   NaN        NaN  NaN  \n",
       "all-body          +   NaN        NaN  NaN  \n",
       "bags              +     +          +    +  \n",
       "bottoms           +   NaN        NaN  NaN  \n",
       "hats              +   NaN          +    +  \n",
       "jewellery         +   NaN          +    +  \n",
       "outerwear       NaN   NaN        NaN  NaN  \n",
       "scarves           +   NaN        NaN  NaN  \n",
       "shoes             +     +          +    +  \n",
       "sunglasses        +   NaN          +  NaN  \n",
       "tops              +   NaN          +    +  "
      ]
     },
     "execution_count": 86,
     "metadata": {},
     "output_type": "execute_result"
    }
   ],
   "source": [
    "dataSet = \"nondisjoint\"\n",
    "dataSet = \"disjoint\"\n",
    "src_dir = os.path.join(inputDir, dataSet)\n",
    "dst_dir = os.path.join(outputDir, dataSet)\n",
    "\n",
    "if not os.path.exists(dst_dir):\n",
    "    os.mkdir(dst_dir)\n",
    "\n",
    "with open(f\"{inputDir}/{dataSet}/typespaces.p\", \"rb\") as f:\n",
    "    types = pkl.load(f)\n",
    "\n",
    "print(\"Number of conditions:\", len(types))\n",
    "data = [[i, j, \"+\"] for i, j in (types)]\n",
    "df = pd.DataFrame(data)\n",
    "\n",
    "df.pivot(index=0, columns=1, values=2)"
   ]
  },
  {
   "cell_type": "code",
   "execution_count": 87,
   "metadata": {},
   "outputs": [
    {
     "name": "stdout",
     "output_type": "stream",
     "text": [
      "Number of disjoint outfits: 35140 = train (16995) + valid(3000) + test(15145)\n",
      "Example outfit\n",
      "{'items': [{'index': 1, 'item_id': '163767019'},\n",
      "           {'index': 2, 'item_id': '181657980'},\n",
      "           {'index': 3, 'item_id': '138610347'},\n",
      "           {'index': 4, 'item_id': '179808365'}],\n",
      " 'set_id': '214251486'}\n",
      "Number of items (max): 16\n"
     ]
    }
   ],
   "source": [
    "trainOutfits = torchutils.io.load_json(os.path.join(src_dir, \"train.json\"))\n",
    "validOutfits = torchutils.io.load_json(os.path.join(src_dir, \"valid.json\"))\n",
    "testOutfits = torchutils.io.load_json(os.path.join(src_dir, \"test.json\"))\n",
    "\n",
    "allOutfits = trainOutfits + validOutfits + testOutfits\n",
    "outfit = np.random.choice(allOutfits)\n",
    "print(\n",
    "    \"Number of {} outfits: {} = train ({}) + valid({}) + test({})\".format(\n",
    "        dataSet, len(allOutfits), len(trainOutfits), len(validOutfits), len(testOutfits)\n",
    "    )\n",
    ")\n",
    "print(\"Example outfit\")\n",
    "pprint(outfit)\n",
    "\n",
    "MAX_SIZE = 0\n",
    "for outfit in allOutfits:\n",
    "    MAX_SIZE = max(MAX_SIZE, len(outfit[\"items\"]))\n",
    "print(\"Number of items (max): {}\".format(MAX_SIZE))\n"
   ]
  },
  {
   "cell_type": "code",
   "execution_count": 88,
   "metadata": {},
   "outputs": [
    {
     "name": "stdout",
     "output_type": "stream",
     "text": [
      "[3904, 11783, 25287, 16752, 3463, 24506, 10111, 2732, 28534, 6152, 19561]\n"
     ]
    }
   ],
   "source": [
    "itemList = [set() for _ in range(len(semanticSet))]\n",
    "\n",
    "for outfit in allOutfits:\n",
    "    items = outfit[\"items\"]\n",
    "    for item in outfit[\"items\"]:\n",
    "        item_id = item[\"item_id\"]\n",
    "        item_type = itemType[item_id]\n",
    "        type_id = semanticDict[item_type]\n",
    "        itemList[type_id].add(item_id)\n",
    "\n",
    "itemList = [list(items) for items in itemList]\n",
    "itemIndex = []\n",
    "for items in itemList:\n",
    "    itemIndex.append({key: index for index, key in enumerate(items)})\n",
    "print(list(map(len, itemList)))\n",
    "\n",
    "torchutils.io.save_json(f\"{dst_dir}/items.json\", itemList)\n"
   ]
  },
  {
   "cell_type": "code",
   "execution_count": 89,
   "metadata": {},
   "outputs": [],
   "source": [
    "def count_items(outfits):\n",
    "    sizes = [len(o[\"items\"]) for o in outfits]\n",
    "    return sizes\n",
    "\n",
    "\n",
    "def count_conditions(outfits):\n",
    "    conditions = set()\n",
    "    for outfit in outfits:\n",
    "        items = outfit[\"items\"]\n",
    "        size = len(items)\n",
    "        for i in range(size):\n",
    "            for j in range(size):\n",
    "                id_i = items[i][\"item_id\"]\n",
    "                id_j = items[j][\"item_id\"]\n",
    "                if (itemType[id_i], itemType[id_j]) in conditions:\n",
    "                    continue\n",
    "                if (itemType[id_j], itemType[id_i]) in conditions:\n",
    "                    continue\n",
    "                conditions.add((itemType[id_i], itemType[id_j]))\n",
    "    return conditions\n",
    "\n"
   ]
  },
  {
   "cell_type": "code",
   "execution_count": 90,
   "metadata": {},
   "outputs": [
    {
     "name": "stdout",
     "output_type": "stream",
     "text": [
      "Number conditions: 66\n"
     ]
    },
    {
     "data": {
      "image/png": "[encoded data removed]",
      "text/plain": [
       "<Figure size 432x288 with 1 Axes>"
      ]
     },
     "metadata": {
      "needs_background": "light"
     },
     "output_type": "display_data"
    }
   ],
   "source": [
    "plt.hist(count_items(trainOutfits), bins=np.arange(MAX_SIZE) + 1.5)\n",
    "plt.title(\"Histogram of traning outfits\")\n",
    "train_conditions = count_conditions(trainOutfits)\n",
    "print(\"Number conditions: %d\" % len(train_conditions))\n",
    "# pprint(train_conditions)\n"
   ]
  },
  {
   "cell_type": "code",
   "execution_count": 91,
   "metadata": {},
   "outputs": [
    {
     "name": "stdout",
     "output_type": "stream",
     "text": [
      "Number conditions: 66\n"
     ]
    },
    {
     "data": {
      "image/png": "[encoded data removed]",
      "text/plain": [
       "<Figure size 432x288 with 1 Axes>"
      ]
     },
     "metadata": {
      "needs_background": "light"
     },
     "output_type": "display_data"
    }
   ],
   "source": [
    "plt.hist(count_items(validOutfits), bins=np.arange(MAX_SIZE) + 1.5)\n",
    "plt.title(\"Histogram of traning outfits\")\n",
    "valid_conditions = count_conditions(validOutfits)\n",
    "print(\"Number conditions: %d\" % len(valid_conditions))\n",
    "# pprint(valid_conditions)\n"
   ]
  },
  {
   "cell_type": "code",
   "execution_count": 92,
   "metadata": {},
   "outputs": [
    {
     "name": "stdout",
     "output_type": "stream",
     "text": [
      "Number conditions: 66\n"
     ]
    },
    {
     "data": {
      "image/png": "[encoded data removed]",
      "text/plain": [
       "<Figure size 432x288 with 1 Axes>"
      ]
     },
     "metadata": {
      "needs_background": "light"
     },
     "output_type": "display_data"
    }
   ],
   "source": [
    "plt.hist(count_items(testOutfits), bins=np.arange(MAX_SIZE) + 1.5)\n",
    "plt.title(\"Histogram of traning outfits\")\n",
    "test_conditions = count_conditions(testOutfits)\n",
    "print(\"Number conditions: %d\" % len(test_conditions))\n",
    "# pprint(test_conditions)\n"
   ]
  },
  {
   "cell_type": "code",
   "execution_count": 93,
   "metadata": {},
   "outputs": [],
   "source": [
    "def convert_tuples(outfits, max_size):\n",
    "    tuples = []\n",
    "    for outfit in outfits:\n",
    "        items = outfit[\"items\"]\n",
    "        size = len(items)\n",
    "        m = max_size - size\n",
    "        item_ids = [i[\"item_id\"] for i in items]\n",
    "        types = [semanticDict[itemType[i]] for i in item_ids]\n",
    "        items = [itemIndex[c][i] for c, i in zip(types, item_ids)]\n",
    "        tuples.append([0, size] + items + [-1] * m + types + [-1] * m)\n",
    "    return np.array(tuples)\n"
   ]
  },
  {
   "cell_type": "code",
   "execution_count": 94,
   "metadata": {},
   "outputs": [],
   "source": [
    "trainTuples = convert_tuples(trainOutfits, MAX_SIZE)\n",
    "validTuples = convert_tuples(validOutfits, MAX_SIZE)\n",
    "testTuples = convert_tuples(testOutfits, MAX_SIZE)\n"
   ]
  },
  {
   "cell_type": "code",
   "execution_count": 95,
   "metadata": {},
   "outputs": [],
   "source": [
    "with open(os.path.join(dst_dir, \"train_pos\"), \"w\") as f:\n",
    "    writer = csv.writer(f)\n",
    "    writer.writerows(trainTuples)\n",
    "\n",
    "with open(os.path.join(dst_dir, \"valid_pos\"), \"w\") as f:\n",
    "    writer = csv.writer(f)\n",
    "    writer.writerows(validTuples)\n",
    "\n",
    "with open(os.path.join(dst_dir, \"test_pos\"), \"w\") as f:\n",
    "    writer = csv.writer(f)\n",
    "    writer.writerows(testTuples)\n"
   ]
  },
  {
   "cell_type": "code",
   "execution_count": 96,
   "metadata": {},
   "outputs": [
    {
     "name": "stdout",
     "output_type": "stream",
     "text": [
      "Number of items: 175485, unique items: 152785\n"
     ]
    }
   ],
   "source": [
    "name2Id = dict()\n",
    "itemSet = set()\n",
    "# since all items saved in item_id format, we do not need to check the content\n",
    "for outfit in allOutfits:\n",
    "    set_id = outfit[\"set_id\"]\n",
    "    for item in outfit[\"items\"]:\n",
    "        item_id = item[\"item_id\"]\n",
    "        index = item[\"index\"]\n",
    "        name = \"{}_{}\".format(set_id, index)\n",
    "        name2Id[name] = item_id\n",
    "        itemSet.add(item_id)\n",
    "print(\"Number of items: {}, unique items: {}\".format(len(name2Id), len(itemSet)))\n"
   ]
  },
  {
   "cell_type": "code",
   "execution_count": 97,
   "metadata": {},
   "outputs": [],
   "source": [
    "def compatibility(fn):\n",
    "    pos_tuples = []\n",
    "    neg_tuples = []\n",
    "    with open(fn) as f:\n",
    "        lines = f.readlines()\n",
    "    for line in tqdm(lines):\n",
    "        label, *outfit = line.split()\n",
    "        tpl = [-1] * (2 * MAX_SIZE)\n",
    "        for n, item in enumerate(outfit):\n",
    "            item_id = name2Id[item]\n",
    "            item_type = semanticDict[itemType[item_id]]\n",
    "            tpl[n] = itemIndex[item_type][item_id]\n",
    "            tpl[n + MAX_SIZE] = item_type\n",
    "        tpl = [0, len(outfit)] + tpl\n",
    "        if int(label) == 1:\n",
    "            pos_tuples.append(tpl)\n",
    "        else:\n",
    "            neg_tuples.append(tpl)\n",
    "    return np.array(pos_tuples), np.array(neg_tuples)\n",
    "\n"
   ]
  },
  {
   "cell_type": "code",
   "execution_count": 98,
   "metadata": {},
   "outputs": [
    {
     "name": "stderr",
     "output_type": "stream",
     "text": [
      "100%|██████████| 33990/33990 [00:00<00:00, 124752.48it/s]\n"
     ]
    },
    {
     "name": "stdout",
     "output_type": "stream",
     "text": [
      "Number of train positive outfits: 16995\n",
      "Number of train negative outfits: 16995\n"
     ]
    },
    {
     "name": "stderr",
     "output_type": "stream",
     "text": [
      "100%|██████████| 6000/6000 [00:00<00:00, 144239.07it/s]\n",
      "  0%|          | 0/30290 [00:00<?, ?it/s]"
     ]
    },
    {
     "name": "stdout",
     "output_type": "stream",
     "text": [
      "Number of valid positive outfits: 3000\n",
      "Number of valid negative outfits: 3000\n"
     ]
    },
    {
     "name": "stderr",
     "output_type": "stream",
     "text": [
      "100%|██████████| 30290/30290 [00:00<00:00, 131633.83it/s]\n"
     ]
    },
    {
     "name": "stdout",
     "output_type": "stream",
     "text": [
      "Number of test positive outfits: 15145\n",
      "Number of test negative outfits: 15145\n"
     ]
    }
   ],
   "source": [
    "splits = [\"train\", \"valid\", \"test\"]\n",
    "outfits = dict(train=trainTuples, valid=validTuples, test=testTuples)\n",
    "\n",
    "for phase in splits:\n",
    "    compatibility_fn = os.path.join(src_dir, \"compatibility_{}.txt\".format(phase))\n",
    "    pos_tuples, neg_tuples = compatibility(compatibility_fn)\n",
    "    assert (pos_tuples == outfits[phase]).all()\n",
    "    # save negative outfits into files\n",
    "    print(f\"Number of {phase} positive outfits: {len(pos_tuples)}\")\n",
    "    print(f\"Number of {phase} negative outfits: {len(neg_tuples)}\")\n",
    "    torchutils.io.save_csv(f\"{dst_dir}/{phase}_neg\", neg_tuples)\n"
   ]
  },
  {
   "cell_type": "code",
   "execution_count": 99,
   "metadata": {},
   "outputs": [],
   "source": [
    "pos_set = {\n",
    "    \"train\": set(map(tuple, trainTuples)),\n",
    "    \"valid\": set(map(tuple, validTuples)),\n",
    "    \"test\": set(map(tuple, testTuples)),\n",
    "}\n",
    "\n",
    "\n",
    "def convert_fitb(phase):\n",
    "    positive_set = pos_set[phase]\n",
    "    fn = os.path.join(src_dir, \"fill_in_blank_{}.json\".format(phase))\n",
    "    with open(fn) as f:\n",
    "        data = json.load(f)\n",
    "    tuples = []\n",
    "    for d in tqdm(data):\n",
    "        position = d[\"blank_position\"]\n",
    "        question = d[\"question\"]\n",
    "        question_ids = [name2Id[i] for i in question]\n",
    "        question_types = [semanticDict[itemType[i]] for i in question_ids]\n",
    "        question_items = [itemIndex[c][i] for c, i in zip(question_types, question_ids)]\n",
    "        n = len(question) + 1\n",
    "        m = MAX_SIZE - n\n",
    "        one_question = []\n",
    "        for ans in d[\"answers\"]:\n",
    "            items = question_items.copy()\n",
    "            types = question_types.copy()\n",
    "            ans_id = name2Id[ans]\n",
    "            ans_type = semanticDict[itemType[ans_id]]\n",
    "            ans_item = itemIndex[ans_type][ans_id]\n",
    "            items.insert(position - 1, ans_item)\n",
    "            types.insert(position - 1, ans_type)\n",
    "            ques_tpl = [0, n] + items + [-1] * m + types + [-1] * m\n",
    "            if tuple(ques_tpl) in positive_set:\n",
    "                one_question.insert(0, ques_tpl)\n",
    "            else:\n",
    "                one_question.append(ques_tpl)\n",
    "        tuples += one_question\n",
    "    tuples = np.array(tuples)\n",
    "    return tuples\n"
   ]
  },
  {
   "cell_type": "code",
   "execution_count": 100,
   "metadata": {},
   "outputs": [
    {
     "name": "stderr",
     "output_type": "stream",
     "text": [
      "100%|██████████| 16995/16995 [00:00<00:00, 41783.80it/s]\n"
     ]
    },
    {
     "name": "stdout",
     "output_type": "stream",
     "text": [
      "Number of train questions: 16995\n"
     ]
    },
    {
     "name": "stderr",
     "output_type": "stream",
     "text": [
      "100%|██████████| 3000/3000 [00:00<00:00, 31743.93it/s]\n",
      " 21%|██▏       | 3245/15145 [00:00<00:00, 32444.69it/s]"
     ]
    },
    {
     "name": "stdout",
     "output_type": "stream",
     "text": [
      "Number of valid questions: 3000\n"
     ]
    },
    {
     "name": "stderr",
     "output_type": "stream",
     "text": [
      "100%|██████████| 15145/15145 [00:00<00:00, 16306.21it/s]\n"
     ]
    },
    {
     "name": "stdout",
     "output_type": "stream",
     "text": [
      "Number of test questions: 15145\n"
     ]
    }
   ],
   "source": [
    "splits = [\"train\", \"valid\", \"test\"]\n",
    "for phase in splits:\n",
    "    tuples = convert_fitb(phase)\n",
    "    print(f\"Number of {phase} questions: {len(tuples) // 4}\")\n",
    "    torchutils.io.save_csv(f\"{dst_dir}/{phase}_fitb\", tuples)\n",
    "\n"
   ]
  },
  {
   "cell_type": "code",
   "execution_count": null,
   "metadata": {},
   "outputs": [],
   "source": []
  }
 ],
 "metadata": {
  "interpreter": {
   "hash": "05658dfe50cff6bbd42299af9f1a1eb42a9cf1a7abd2f1ef93f6f5316928c930"
  },
  "kernelspec": {
   "display_name": "Python 3.8.10 64-bit ('torch': conda)",
   "name": "python3"
  },
  "language_info": {
   "codemirror_mode": {
    "name": "ipython",
    "version": 3
   },
   "file_extension": ".py",
   "mimetype": "text/x-python",
   "name": "python",
   "nbconvert_exporter": "python",
   "pygments_lexer": "ipython3",
   "version": "3.8.10"
  }
 },
 "nbformat": 4,
 "nbformat_minor": 2
}
